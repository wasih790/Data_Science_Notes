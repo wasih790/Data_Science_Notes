{
 "cells": [
  {
   "cell_type": "code",
   "execution_count": 9,
   "metadata": {},
   "outputs": [
    {
     "data": {
      "text/plain": [
       "{'bulbasuar': ['grass'],\n",
       " 'raichu': ['electric'],\n",
       " 'jigglypuff': ['fairy'],\n",
       " 'squirtle': ['water']}"
      ]
     },
     "execution_count": 9,
     "metadata": {},
     "output_type": "execute_result"
    }
   ],
   "source": [
    "#create a dictionary called 'pokedex' with the key being the pokemon name and the value being the type in a list\n",
    "\n",
    "pokemons = ['bulbasuar', 'raichu', 'jigglypuff', 'squirtle']\n",
    "\n",
    "types = ['grass', 'electric', 'fairy', 'water']\n",
    "\n",
    "pokedex = {x:[y] for x,y in zip(pokemons,types)}\n",
    "\n",
    "pokedex\n",
    "    "
   ]
  },
  {
   "cell_type": "code",
   "execution_count": 10,
   "metadata": {},
   "outputs": [
    {
     "data": {
      "text/plain": [
       "{'bulbasuar': ['grass'],\n",
       " 'raichu': ['electric'],\n",
       " 'jigglypuff': ['fairy'],\n",
       " 'squirtle': ['water'],\n",
       " 'chimchar': ['fire']}"
      ]
     },
     "execution_count": 10,
     "metadata": {},
     "output_type": "execute_result"
    }
   ],
   "source": [
    "# you went out in the grasslands and found another pokeman! add your favorite pokeman to the pokemandex \n",
    "\n",
    "pokedex['chimchar'] = ['fire']\n",
    "\n",
    "pokedex"
   ]
  },
  {
   "cell_type": "code",
   "execution_count": 11,
   "metadata": {},
   "outputs": [
    {
     "data": {
      "text/plain": [
       "{'bulbasuar': ['grass', 100],\n",
       " 'raichu': ['electric', 65],\n",
       " 'jigglypuff': ['fairy', 89],\n",
       " 'squirtle': ['water', 77],\n",
       " 'chimchar': ['fire', 45]}"
      ]
     },
     "execution_count": 11,
     "metadata": {},
     "output_type": "execute_result"
    }
   ],
   "source": [
    "# # ADD THE POKEMANS HP TO EACH OF THE VALUE LISTS  - hp is up to you , add whatever (int or float)\n",
    "\n",
    "pokedex['bulbasuar'].append(100)\n",
    "pokedex['raichu'].append(65)\n",
    "pokedex['jigglypuff'].append(89)\n",
    "pokedex['squirtle'].append(77)\n",
    "pokedex['chimchar'].append(45)\n",
    "\n",
    "\n",
    "\n",
    "# hp = [100,99,87,56,44]\n",
    "# for x in hp:\n",
    "#     for y in pokedex.keys():\n",
    "#         pokedex[y].append(x)\n",
    "\n",
    "    \n",
    "pokedex"
   ]
  },
  {
   "cell_type": "code",
   "execution_count": 12,
   "metadata": {},
   "outputs": [
    {
     "data": {
      "text/plain": [
       "[('bulbasuar', 100),\n",
       " ('raichu', 65),\n",
       " ('jigglypuff', 89),\n",
       " ('squirtle', 77),\n",
       " ('chimchar', 45)]"
      ]
     },
     "execution_count": 12,
     "metadata": {},
     "output_type": "execute_result"
    }
   ],
   "source": [
    "#create a list of tuples containing the pokemon and thier hp called pokeman_power\n",
    "pokeman_power = [(key,value[1]) for key,value in pokedex.items()]\n",
    "\n",
    "pokeman_power"
   ]
  },
  {
   "cell_type": "code",
   "execution_count": 13,
   "metadata": {
    "scrolled": true
   },
   "outputs": [
    {
     "name": "stdout",
     "output_type": "stream",
     "text": [
      "55378008\n"
     ]
    }
   ],
   "source": [
    "# multiply the number of trees in each forest to determine total tree amount \n",
    "\n",
    "trees = {\n",
    "    'eastern': {'oak' : [769139], 'dougy fir': [3]},\n",
    "     'western':{ 'cali red': [3]},\n",
    "    'southern': {'eucalyptus': [8]}\n",
    "}\n",
    "\n",
    "num_tree = [\n",
    "\n",
    "trees['eastern']['oak'][0],\n",
    "trees['eastern']['dougy fir'][0],\n",
    "trees['western']['cali red'][0],\n",
    "trees['southern']['eucalyptus'][0]\n",
    "]\n",
    "\n",
    "import math\n",
    "\n",
    "total = math.prod(num_tree)\n",
    "print(total)"
   ]
  },
  {
   "cell_type": "code",
   "execution_count": null,
   "metadata": {},
   "outputs": [],
   "source": []
  },
  {
   "cell_type": "code",
   "execution_count": 14,
   "metadata": {},
   "outputs": [],
   "source": [
    "## json structures\n",
    "\n",
    "# create a list of the three urls available in the user dictionary within the json structure \n",
    "\n",
    "# should look like this: [\"http://t.co/cCH13gqeUK\",\"https://www.sitepoint.com/javascript\",\"sitepoint.com/javascript\"]\n",
    "\n",
    "twitter = [{\n",
    "  \"created_at\": \"Thu Jun 22 21:00:00 +0000 2017\",\n",
    "  \"id\": 877994604561387500,\n",
    "  \"id_str\": \"877994604561387520\",\n",
    "  \"text\": \"Creating a Grocery List Manager Using Angular, Part 1: Add &amp; Display Items https://t.co/xFox78juL1 #Angular\",\n",
    "  \"truncated\": 'false',\n",
    "  \"entities\": {\n",
    "    \"hashtags\": [{\n",
    "      \"text\": \"Angular\",\n",
    "      \"indices\": [103, 111]\n",
    "    }],\n",
    "    \"symbols\": [],\n",
    "    \"user_mentions\": [],\n",
    "    \"urls\": [{\n",
    "      \"url\": \"https://t.co/xFox78juL1\",\n",
    "      \"expanded_url\": \"http://buff.ly/2sr60pf\",\n",
    "      \"display_url\": \"buff.ly/2sr60pf\",\n",
    "      \"indices\": [79, 102]\n",
    "    }]\n",
    "  },\n",
    "  \"source\": \"<a href=\\\"http://bufferapp.com\\\" rel=\\\"nofollow\\\">Buffer</a>\",\n",
    "  \"user\": {\n",
    "    \"id\": 772682964,\n",
    "    \"id_str\": \"772682964\",\n",
    "    \"name\": \"SitePoint JavaScript\",\n",
    "    \"screen_name\": \"SitePointJS\",\n",
    "    \"location\": \"Melbourne, Australia\",\n",
    "    \"description\": \"Keep up with JavaScript tutorials, tips, tricks and articles at SitePoint.\",\n",
    "    \"url\": \"http://t.co/cCH13gqeUK\",\n",
    "    \"entities\": {\n",
    "      \"url\": {\n",
    "        \"urls\": [{\n",
    "          \"url\": \"http://t.co/cCH13gqeUK\",\n",
    "          \"expanded_url\": \"https://www.sitepoint.com/javascript\",\n",
    "          \"display_url\": \"sitepoint.com/javascript\",\n",
    "          \"indices\": [0, 22]\n",
    "        }]\n",
    "      },\n",
    "      \"description\": {\n",
    "        \"urls\": []\n",
    "      }\n",
    "    },\n",
    "    \"protected\": 'false',\n",
    "    \"followers_count\": 2145,\n",
    "    \"friends_count\": 18,\n",
    "    \"listed_count\": 328,\n",
    "    \"created_at\": \"Wed Aug 22 02:06:33 +0000 2012\",\n",
    "    \"favourites_count\": 57,\n",
    "    \"utc_offset\": 43200,\n",
    "    \"time_zone\": \"Wellington\",\n",
    "  },\n",
    "}]"
   ]
  },
  {
   "cell_type": "code",
   "execution_count": 15,
   "metadata": {},
   "outputs": [],
   "source": [
    "urls = twitter[0]['user']['entities']['url']['urls'][0]"
   ]
  },
  {
   "cell_type": "code",
   "execution_count": 16,
   "metadata": {},
   "outputs": [
    {
     "data": {
      "text/plain": [
       "{'url': 'http://t.co/cCH13gqeUK',\n",
       " 'expanded_url': 'https://www.sitepoint.com/javascript',\n",
       " 'display_url': 'sitepoint.com/javascript',\n",
       " 'indices': [0, 22]}"
      ]
     },
     "execution_count": 16,
     "metadata": {},
     "output_type": "execute_result"
    }
   ],
   "source": [
    "urls"
   ]
  },
  {
   "cell_type": "code",
   "execution_count": 17,
   "metadata": {},
   "outputs": [],
   "source": [
    "url_list = [urls['url'], urls['expanded_url'], urls['display_url']]"
   ]
  },
  {
   "cell_type": "code",
   "execution_count": 18,
   "metadata": {},
   "outputs": [
    {
     "name": "stdout",
     "output_type": "stream",
     "text": [
      "['http://t.co/cCH13gqeUK', 'https://www.sitepoint.com/javascript', 'sitepoint.com/javascript']\n"
     ]
    }
   ],
   "source": [
    "print(url_list)\n",
    "# should look like this: \n",
    "# [\"http://t.co/cCH13gqeUK\",\"https://www.sitepoint.com/javascript\",\"sitepoint.com/javascript\"]\n"
   ]
  },
  {
   "cell_type": "code",
   "execution_count": null,
   "metadata": {},
   "outputs": [],
   "source": []
  }
 ],
 "metadata": {
  "kernelspec": {
   "display_name": "Python 3",
   "language": "python",
   "name": "python3"
  },
  "language_info": {
   "codemirror_mode": {
    "name": "ipython",
    "version": 3
   },
   "file_extension": ".py",
   "mimetype": "text/x-python",
   "name": "python",
   "nbconvert_exporter": "python",
   "pygments_lexer": "ipython3",
   "version": "3.8.5"
  }
 },
 "nbformat": 4,
 "nbformat_minor": 5
}
