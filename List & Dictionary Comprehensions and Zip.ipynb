{
 "cells": [
  {
   "cell_type": "markdown",
   "metadata": {},
   "source": [
    "###  NOT LIST COMPREHENSION"
   ]
  },
  {
   "cell_type": "code",
   "execution_count": 12,
   "metadata": {},
   "outputs": [
    {
     "data": {
      "text/plain": [
       "[7, 8, 9]"
      ]
     },
     "execution_count": 12,
     "metadata": {},
     "output_type": "execute_result"
    }
   ],
   "source": [
    "data = [1,2,4,7,8,4,3,4,2,9]\n",
    "\n",
    "# you want to get all number that are greater that 5\n",
    "\n",
    "bigger_than_5 = []\n",
    "\n",
    "\n",
    "for x in data:\n",
    "    if x > 5:\n",
    "        bigger_than_5.append(x)\n",
    "        \n",
    "bigger_than_5\n",
    "\n",
    "# this is not list comprehension"
   ]
  },
  {
   "cell_type": "markdown",
   "metadata": {},
   "source": [
    "### LIST COMPREHENSION"
   ]
  },
  {
   "cell_type": "code",
   "execution_count": 13,
   "metadata": {},
   "outputs": [
    {
     "data": {
      "text/plain": [
       "[7, 8, 9]"
      ]
     },
     "execution_count": 13,
     "metadata": {},
     "output_type": "execute_result"
    }
   ],
   "source": [
    "### LIST COMPREHENSION\n",
    "\n",
    "list_comp_bigger_than_5 = [x for x in data if x > 5]\n",
    "# this is list coprehension\n",
    "# the first x is the vaule you want\n",
    "list_comp_bigger_than_5"
   ]
  },
  {
   "cell_type": "code",
   "execution_count": 14,
   "metadata": {},
   "outputs": [
    {
     "data": {
      "text/plain": [
       "[14, 16, 18]"
      ]
     },
     "execution_count": 14,
     "metadata": {},
     "output_type": "execute_result"
    }
   ],
   "source": [
    "# trying double the value with list comp\n",
    "\n",
    "double_bigger_than_5 = [x*2 for x in data if x > 5 ]\n",
    "double_bigger_than_5"
   ]
  },
  {
   "cell_type": "code",
   "execution_count": 16,
   "metadata": {},
   "outputs": [
    {
     "name": "stdout",
     "output_type": "stream",
     "text": [
      "['apple', 'banana', 'mango']\n",
      "['apple', 'banana', 'mango']\n"
     ]
    }
   ],
   "source": [
    "# another example\n",
    "fruits = [\"apple\", \"banana\", \"cherry\", \"kiwi\", \"mango\"]\n",
    "newlist = []\n",
    "\n",
    "for x in fruits:\n",
    "    if \"a\" in x:\n",
    "        newlist.append(x)\n",
    "\n",
    "print(newlist)\n",
    "\n",
    "\n",
    "fruits = [\"apple\", \"banana\", \"cherry\", \"kiwi\", \"mango\"]\n",
    "\n",
    "list_comp_newlist = [x for x in fruits if \"a\" in x]\n",
    "\n",
    "print(list_comp_newlist)"
   ]
  },
  {
   "cell_type": "markdown",
   "metadata": {},
   "source": [
    "### NOT DICTIONARY COMPREHENSION"
   ]
  },
  {
   "cell_type": "code",
   "execution_count": 41,
   "metadata": {},
   "outputs": [],
   "source": [
    "index, value = [1,2,3],['a','b','c']\n",
    "\n",
    "# zip the 2 together with the zip function\n",
    "\n",
    "# zipped = zip(index,value)\n",
    "\n",
    "# new_dict = {}\n",
    "# for index,value in zipped:\n",
    "#         new_dict[index] = value\n",
    "\n",
    "        \n",
    "# new_dict"
   ]
  },
  {
   "cell_type": "markdown",
   "metadata": {},
   "source": [
    "### DICTIONARY COMPREHENSION"
   ]
  },
  {
   "cell_type": "code",
   "execution_count": 42,
   "metadata": {},
   "outputs": [
    {
     "data": {
      "text/plain": [
       "{1: 'a', 2: 'b', 3: 'c'}"
      ]
     },
     "execution_count": 42,
     "metadata": {},
     "output_type": "execute_result"
    }
   ],
   "source": [
    "zip_toget = zip(index,value)\n",
    "\n",
    "dict_comp = {x:y for x,y in zip_toget}\n",
    "\n",
    "dict_comp"
   ]
  },
  {
   "cell_type": "code",
   "execution_count": 43,
   "metadata": {
    "scrolled": true
   },
   "outputs": [
    {
     "data": {
      "text/plain": [
       "{4: 'a', 8: 'b', 12: 'c'}"
      ]
     },
     "execution_count": 43,
     "metadata": {},
     "output_type": "execute_result"
    }
   ],
   "source": [
    "# you can also transfor the dictonary with the comprehension\n",
    "\n",
    "# maybe you want to change the index and multipy 4\n",
    "new_zip  = zip(index,value)\n",
    "\n",
    "\n",
    "new_dict_comp = {4*x:y for x,y in new_zip}\n",
    "\n",
    "new_dict_comp"
   ]
  },
  {
   "cell_type": "markdown",
   "metadata": {},
   "source": [
    "### ZIP FUNCTION"
   ]
  },
  {
   "cell_type": "code",
   "execution_count": 1,
   "metadata": {},
   "outputs": [],
   "source": [
    "xy_list_of_tuples = [(3, 18), (4, 32), \n",
    "                     (5, 50), (6, 72), (7, 128)]\n",
    "\n",
    "xy_list_reformed = [[3,4,5,6,7],\n",
    "                    [18,32,50,72,128]]"
   ]
  },
  {
   "cell_type": "code",
   "execution_count": 2,
   "metadata": {},
   "outputs": [
    {
     "name": "stdout",
     "output_type": "stream",
     "text": [
      "[[3, 4, 5, 6, 7], [18, 32, 50, 72, 128]]\n",
      "[(3, 18), (4, 32), (5, 50), (6, 72), (7, 128)]\n"
     ]
    }
   ],
   "source": [
    "print(xy_list_reformed)\n",
    "print(xy_list_of_tuples)"
   ]
  },
  {
   "cell_type": "code",
   "execution_count": 4,
   "metadata": {},
   "outputs": [
    {
     "data": {
      "text/plain": [
       "[(3, 18), (4, 32), (5, 50), (6, 72), (7, 128)]"
      ]
     },
     "execution_count": 4,
     "metadata": {},
     "output_type": "execute_result"
    }
   ],
   "source": [
    "# how to zip together the list \n",
    "new_zip = zip(*xy_list_reformed)\n",
    "\n",
    "list(new_zip)"
   ]
  },
  {
   "cell_type": "code",
   "execution_count": 5,
   "metadata": {},
   "outputs": [
    {
     "data": {
      "text/plain": [
       "[(3, 4, 5, 6, 7), (18, 32, 50, 72, 128)]"
      ]
     },
     "execution_count": 5,
     "metadata": {},
     "output_type": "execute_result"
    }
   ],
   "source": [
    "# to undo the tuple\n",
    "\n",
    "list(zip(*xy_list_of_tuples))"
   ]
  },
  {
   "cell_type": "code",
   "execution_count": null,
   "metadata": {},
   "outputs": [],
   "source": []
  }
 ],
 "metadata": {
  "kernelspec": {
   "display_name": "Python (learn-env)",
   "language": "python",
   "name": "learn-env"
  },
  "language_info": {
   "codemirror_mode": {
    "name": "ipython",
    "version": 3
   },
   "file_extension": ".py",
   "mimetype": "text/x-python",
   "name": "python",
   "nbconvert_exporter": "python",
   "pygments_lexer": "ipython3",
   "version": "3.8.5"
  }
 },
 "nbformat": 4,
 "nbformat_minor": 4
}
